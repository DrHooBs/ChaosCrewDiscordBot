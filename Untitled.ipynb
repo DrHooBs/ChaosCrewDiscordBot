{
 "cells": [
  {
   "cell_type": "markdown",
   "id": "3bdc0f0d",
   "metadata": {},
   "source": [
    "This is a cog example"
   ]
  },
  {
   "cell_type": "code",
   "execution_count": null,
   "id": "1ca4b807",
   "metadata": {},
   "outputs": [],
   "source": [
    "from discord.ext import commands\n",
    "import discord\n",
    "import discord.utils\n",
    "\n",
    "class fun(commands.Cog):\n",
    "    def __init__(self, bot):\n",
    "        self.bot = bot\n",
    "\n",
    "    @commands.command(name='say',description='bot says [text]',brief='bot says [text]')\n",
    "    async def say(self, ctx, *, text: commands.clean_content = ''):\n",
    "        #                         ^^ This is for pings / mentions being cleaned so you can't do `a!say @everyone`.\n",
    "        #command content\n",
    "\n",
    "\n",
    "def setup(bot):\n",
    "    bot.add_cog(fun(bot))"
   ]
  }
 ],
 "metadata": {
  "kernelspec": {
   "display_name": "Python 3",
   "language": "python",
   "name": "python3"
  },
  "language_info": {
   "codemirror_mode": {
    "name": "ipython",
    "version": 3
   },
   "file_extension": ".py",
   "mimetype": "text/x-python",
   "name": "python",
   "nbconvert_exporter": "python",
   "pygments_lexer": "ipython3",
   "version": "3.8.8"
  }
 },
 "nbformat": 4,
 "nbformat_minor": 5
}
