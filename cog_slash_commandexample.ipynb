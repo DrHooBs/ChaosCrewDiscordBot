{
 "cells": [
  {
   "cell_type": "markdown",
   "metadata": {},
   "source": [
    "\n",
    "\n",
    "This is a slash command example"
   ]
  },
  {
   "cell_type": "code",
   "execution_count": null,
   "metadata": {},
   "outputs": [],
   "source": [
    "from discord import Embed\n",
    "from discord.ext.commands import Bot, Cog\n",
    "from discord_slash import cog_ext, SlashContext\n",
    "from discord.ext import commands\n",
    "import discord\n",
    "import discord.utils\n",
    "\n",
    "class fun(commands.Cog):\n",
    "    def __init__(self, bot):\n",
    "        self.bot = bot\n",
    "\n",
    "\n",
    "    #slash command test\n",
    "    # @cog_ext.cog_slash(name=\"slash_test\")\n",
    "    # async def _test(self, ctx: SlashContext):\n",
    "    #     embed = Embed(title=\"Embed Test\")\n",
    "    #     await ctx.send(embed=embed)\n",
    "\n",
    "\n",
    "def setup(bot):\n",
    "    bot.add_cog(fun(bot))\n"
   ]
  }
 ],
 "metadata": {
  "language_info": {
   "name": "python"
  },
  "orig_nbformat": 4
 },
 "nbformat": 4,
 "nbformat_minor": 2
}
